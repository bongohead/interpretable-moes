{
 "cells": [
  {
   "cell_type": "code",
   "execution_count": null,
   "metadata": {},
   "outputs": [],
   "source": [
    "import glob as glob\n",
    "import time\n",
    "import torch\n",
    "from transformers import AutoTokenizer\n",
    "tokenizer = AutoTokenizer.from_pretrained('allenai/OLMoE-1B-7B-0924', add_eos_token = False, add_bos_token = False)"
   ]
  },
  {
   "cell_type": "code",
   "execution_count": null,
   "metadata": {},
   "outputs": [],
   "source": [
    "from helpers.dataset import load_shard_as_dataloader\n",
    "\n",
    "shard_files = sorted(glob.glob(\"./../../data/train_shard_*.json\"))\n",
    "print(f\"Found {len(shard_files)} shards.\")\n",
    "\n",
    "for shard_idx, shard_path in enumerate(shard_files[0:1]):\n",
    "    start_time = time.time()\n",
    "    print('Start')\n",
    "    shard_dl = load_shard_as_dataloader(shard_path, tokenizer, batch_size = 64 * 4, seq_len = 2048, eos_seperator_id = tokenizer.eos_token_id, shuffle = False)\n",
    "    print(time.time() - start_time)"
   ]
  },
  {
   "cell_type": "markdown",
   "metadata": {},
   "source": [
    "## Alt Version 1 - Multiprocess import"
   ]
  },
  {
   "cell_type": "code",
   "execution_count": null,
   "metadata": {},
   "outputs": [],
   "source": [
    "from helpers.dataset import load_shard_as_dataloader_mp\n",
    "\n",
    "shard_files = sorted(glob.glob(\"./../../data/train_shard_*.json\"))\n",
    "print(f\"Found {len(shard_files)} shards.\")\n",
    "\n",
    "for shard_idx, shard_path in enumerate(shard_files[0:1]):\n",
    "    start_time = time.time()\n",
    "    print('Start')\n",
    "    shard_dl = load_shard_as_dataloader_mp(shard_path, tokenizer, batch_size = 64 * 4, seq_len = 2048, eos_seperator_id = tokenizer.eos_token_id)\n",
    "    print(time.time() - start_time)"
   ]
  },
  {
   "cell_type": "markdown",
   "metadata": {},
   "source": [
    "## Alt Version 2 - Preprocess first, shard later"
   ]
  },
  {
   "cell_type": "code",
   "execution_count": null,
   "metadata": {},
   "outputs": [],
   "source": [
    "from helpers.dataset import load_pt_shard_as_dataloader\n",
    "\n",
    "shard_pt_files = sorted(glob.glob(\"./../../data/olmoe-tokenizer/train_shard_*.pt\"))\n",
    "print(f\"Found {len(shard_pt_files)} shards.\")\n",
    "\n",
    "for shard_idx, shard_pt_path in enumerate(shard_pt_files[0:1]):\n",
    "    start_time = time.time()\n",
    "    print('Start')\n",
    "    shard_pt_dl = load_pt_shard_as_dataloader(shard_pt_path, tokenizer, batch_size = 64 * 4, seq_len = 2048, shuffle = False)\n",
    "    print(time.time() - start_time)"
   ]
  },
  {
   "cell_type": "markdown",
   "metadata": {},
   "source": [
    "## Validate approaches are the same"
   ]
  },
  {
   "cell_type": "code",
   "execution_count": null,
   "metadata": {},
   "outputs": [],
   "source": [
    "## VERIFY SAME OUTPUT!!.\n",
    "for b in shard_dl:\n",
    "    print(b)\n",
    "    break"
   ]
  },
  {
   "cell_type": "code",
   "execution_count": null,
   "metadata": {},
   "outputs": [],
   "source": [
    "for b in shard_dl:\n",
    "    print(b)\n",
    "    break"
   ]
  },
  {
   "cell_type": "code",
   "execution_count": null,
   "metadata": {},
   "outputs": [],
   "source": [
    "# Flatten results from old approach\n",
    "old_input_ids_list = []\n",
    "old_attention_list = []\n",
    "\n",
    "for b in shard_pt_dl:\n",
    "    old_input_ids_list.append(b['input_ids'])\n",
    "    old_attention_list.append(b['attention_mask'])\n",
    "\n",
    "old_input_ids_all = torch.cat(old_input_ids_list, dim=0)\n",
    "old_attention_all = torch.cat(old_attention_list, dim=0)\n",
    "print(f\"old_input_ids_all shape = {old_input_ids_all.shape}\")"
   ]
  },
  {
   "cell_type": "code",
   "execution_count": null,
   "metadata": {},
   "outputs": [],
   "source": [
    "new_input_ids_list = []\n",
    "new_attention_list = []\n",
    "\n",
    "for b in shard_pt_dl:\n",
    "    new_input_ids_list.append(b['input_ids'])\n",
    "    new_attention_list.append(b['attention_mask'])\n",
    "\n",
    "new_input_ids_all = torch.cat(new_input_ids_list, dim=0)\n",
    "new_attention_all = torch.cat(new_attention_list, dim=0)\n",
    "print(f\"new_input_ids_all shape = {new_input_ids_all.shape}\")"
   ]
  },
  {
   "cell_type": "code",
   "execution_count": null,
   "metadata": {},
   "outputs": [],
   "source": [
    "if old_input_ids_all.shape != new_input_ids_all.shape:\n",
    "    print(\"ERROR: shapes differ in input_ids!\")\n",
    "else:\n",
    "    same_ids = (old_input_ids_all == new_input_ids_all).all().item()\n",
    "    same_mask = (old_attention_all == new_attention_all).all().item()\n",
    "\n",
    "    print(same_ids, same_mask)"
   ]
  },
  {
   "cell_type": "code",
   "execution_count": null,
   "metadata": {},
   "outputs": [],
   "source": [
    "new_input_ids_all[-1, :]"
   ]
  },
  {
   "cell_type": "code",
   "execution_count": null,
   "metadata": {},
   "outputs": [],
   "source": [
    "old_input_ids_all[-1, :]"
   ]
  }
 ],
 "metadata": {
  "kernelspec": {
   "display_name": "Python 3",
   "language": "python",
   "name": "python3"
  },
  "language_info": {
   "codemirror_mode": {
    "name": "ipython",
    "version": 3
   },
   "file_extension": ".py",
   "mimetype": "text/x-python",
   "name": "python",
   "nbconvert_exporter": "python",
   "pygments_lexer": "ipython3",
   "version": "3.12.9"
  }
 },
 "nbformat": 4,
 "nbformat_minor": 2
}
