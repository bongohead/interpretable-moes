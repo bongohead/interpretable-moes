{
 "cells": [
  {
   "cell_type": "code",
   "execution_count": null,
   "metadata": {},
   "outputs": [],
   "source": [
    "from datasets import load_dataset\n",
    "from itertools import islice\n",
    "import json\n",
    "\n",
    "def get_fineweb_edu_ds(n_samples: int = 1000):\n",
    "    dataset = load_dataset(\"HuggingFaceFW/fineweb-edu\", name = \"default\", split = 'train', streaming = True)\n",
    "    dataset = dataset.filter(lambda x: x.get('language') == 'en' and x.get('score') >= 4)\n",
    "    dataset_pulled = list(islice(dataset, n_samples))  # Convert to a list of the first 1,000 samples\n",
    "    dataset_pulled = [x['text'] for x in dataset_pulled]    \n",
    "    return dataset_pulled\n",
    "\n",
    "fw_data = get_fineweb_edu_ds(100000)\n",
    "test_lines = fw_data[:1000]    # first 1,000 for test\n",
    "train_lines = fw_data[1000:]   # the rest for train\n",
    "with open('test.json', 'w') as f:\n",
    "    json.dump(test_lines, f)\n",
    "with open('train.json', 'w') as f:\n",
    "    json.dump(train_lines, f)"
   ]
  }
 ],
 "metadata": {
  "kernelspec": {
   "display_name": "Python 3",
   "language": "python",
   "name": "python3"
  },
  "language_info": {
   "name": "python",
   "version": "3.11.-1"
  }
 },
 "nbformat": 4,
 "nbformat_minor": 2
}
