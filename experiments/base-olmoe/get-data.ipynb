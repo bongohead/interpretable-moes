{
 "cells": [
  {
   "cell_type": "code",
   "execution_count": null,
   "metadata": {},
   "outputs": [],
   "source": [
    "from datasets import load_dataset\n",
    "from itertools import islice\n",
    "import json\n",
    "\n",
    "def get_fineweb_edu_data_sharded(\n",
    "    shard_size = 20_000,\n",
    "    max_samples = 2_000_000,  # or None for infinite\n",
    "    out_prefix = \"data/train_shard\",\n",
    "    val_filename = \"data/val_shard.json\",\n",
    "    val_size = 1_000\n",
    "):\n",
    "    \"\"\"\n",
    "    Stream the FineWeb-Edu dataset and write out training samples in shards. Also create a validation shard of 'val_size' samples at the beginning.\n",
    "    \n",
    "    Params:\n",
    "        @shard_size: The # of samples to store in each train shard\n",
    "        @max_samples: The total number of samples\n",
    "        @out_prefix: The filename prefix for the train shards \n",
    "        @val_filename: The filename for the val set\n",
    "        @val_size: The total size of the val set\n",
    "    \"\"\"\n",
    "    ds = load_dataset(\"HuggingFaceFW/fineweb-edu\", name = \"default\", split = \"train\", streaming=True)\n",
    "    ds = ds.filter(lambda x: x.get(\"language\") == \"en\" and x.get(\"score\") >= 4)\n",
    "\n",
    "    # We will first get 'val_size' samples for validation:\n",
    "    val_iter = islice(ds, val_size) \n",
    "    val_data = [x[\"text\"] for x in val_iter]\n",
    "    with open(val_filename, \"w\") as f:\n",
    "        json.dump(val_data, f)\n",
    "    print(f\"Saved {val_size} samples to {val_filename}\")\n",
    "\n",
    "    # Now the remaining data goes to training shards\n",
    "    total_written = 0\n",
    "    shard_idx = 0\n",
    "\n",
    "    while True:\n",
    "        # If max_samples is not None, stop if we exceed it\n",
    "        if max_samples is not None and total_written >= max_samples:\n",
    "            break\n",
    "\n",
    "        # Pull up to shard_size items\n",
    "        chunk = list(islice(ds, shard_size))\n",
    "        if not chunk:\n",
    "            break \n",
    "\n",
    "        texts = [x[\"text\"] for x in chunk]\n",
    "        shard_path = f\"{out_prefix}_{shard_idx}.json\"\n",
    "\n",
    "        with open(shard_path, \"w\") as f:\n",
    "            json.dump(texts, f)\n",
    "\n",
    "        shard_idx += 1\n",
    "        total_written += len(chunk)\n",
    "        print(f\"Wrote shard {shard_path} with {len(chunk)} samples (total so far: {total_written}).\")\n",
    "\n",
    "get_fineweb_edu_data_sharded()"
   ]
  },
  {
   "cell_type": "code",
   "execution_count": null,
   "metadata": {},
   "outputs": [],
   "source": [
    "# Old, non-sharded\n",
    "# def get_fineweb_edu_data(n_samples: int = 1000):\n",
    "#     dataset = load_dataset(\"HuggingFaceFW/fineweb-edu\", name = \"default\", split = 'train', streaming = True)\n",
    "#     dataset = dataset.filter(lambda x: x.get('language') == 'en' and x.get('score') >= 4)\n",
    "#     dataset_pulled = list(islice(dataset, n_samples))  # Convert to a list of the first 1,000 samples\n",
    "#     dataset_pulled = [x['text'] for x in dataset_pulled]    \n",
    "#     return dataset_pulled"
   ]
  }
 ],
 "metadata": {
  "kernelspec": {
   "display_name": "Python 3",
   "language": "python",
   "name": "python3"
  },
  "language_info": {
   "codemirror_mode": {
    "name": "ipython",
    "version": 3
   },
   "file_extension": ".py",
   "mimetype": "text/x-python",
   "name": "python",
   "nbconvert_exporter": "python",
   "pygments_lexer": "ipython3",
   "version": "3.11.11"
  }
 },
 "nbformat": 4,
 "nbformat_minor": 2
}
