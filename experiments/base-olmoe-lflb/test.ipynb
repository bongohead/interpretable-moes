{
 "cells": [
  {
   "cell_type": "code",
   "execution_count": null,
   "metadata": {},
   "outputs": [],
   "source": [
    "import os\n",
    "import torch\n",
    "import pandas as pd\n",
    "\n",
    "\n",
    "def convert_pt_to_csv(in_pt_path: str, out_csv_path: str):\n",
    "    \"\"\"\n",
    "    Loads a .pt file containing either:\n",
    "      - a dict of Python lists, or\n",
    "      - a dict of PyTorch tensors\n",
    "    and converts it to a CSV file via pandas DataFrame.\n",
    "    \n",
    "    Args:\n",
    "        in_pt_path: Path to the input .pt file\n",
    "        out_csv_path: Path to the output CSV file\n",
    "    \"\"\"\n",
    "    # Load the .pt file\n",
    "    data = torch.load(in_pt_path)  # 'data' is typically a dict\n",
    "    \n",
    "    # If any values are PyTorch tensors, convert them to Python lists:\n",
    "    for key, val in data.items():\n",
    "        if isinstance(val, torch.Tensor):\n",
    "            data[key] = val.tolist()\n",
    "    \n",
    "    # Now 'data' is a dict of lists. We can build a DataFrame.\n",
    "    df = pd.DataFrame(data)\n",
    "    \n",
    "    # Save to CSV\n",
    "    df.to_csv(out_csv_path, index=False)\n",
    "    print(f\"Converted {in_pt_path} to {out_csv_path} (rows={len(df)})\")\n",
    "\n",
    "\n",
    "def convert_folder_of_pts(pt_dir: str):\n",
    "    \"\"\"\n",
    "    Finds all .pt files in a folder, converts each to a CSV (with same base name).\n",
    "    For instance, if we find 'example.pt', we'll create 'example.csv'.\n",
    "    \n",
    "    Args:\n",
    "        pt_dir: Path to the folder containing .pt files\n",
    "    \"\"\"\n",
    "    for fname in os.listdir(pt_dir):\n",
    "        if fname.endswith(\".pt\"):\n",
    "            pt_path = os.path.join(pt_dir, fname)\n",
    "            base_name = os.path.splitext(fname)[0]  # e.g. \"example\"\n",
    "            csv_path = os.path.join(pt_dir, base_name + \".csv\")\n",
    "            if os.path.isfile(csv_path):\n",
    "                print(f\"Skipping {pt_path} because CSV already exists at {csv_path}.\")\n",
    "                continue\n",
    "            \n",
    "            convert_pt_to_csv(pt_path, csv_path)\n",
    "\n",
    "convert_folder_of_pts('logs')"
   ]
  }
 ],
 "metadata": {
  "kernelspec": {
   "display_name": "Python 3",
   "language": "python",
   "name": "python3"
  },
  "language_info": {
   "codemirror_mode": {
    "name": "ipython",
    "version": 3
   },
   "file_extension": ".py",
   "mimetype": "text/x-python",
   "name": "python",
   "nbconvert_exporter": "python",
   "pygments_lexer": "ipython3",
   "version": "3.12.9"
  }
 },
 "nbformat": 4,
 "nbformat_minor": 2
}
