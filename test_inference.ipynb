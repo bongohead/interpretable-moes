{
 "cells": [
  {
   "cell_type": "markdown",
   "metadata": {},
   "source": [
    "## Setup"
   ]
  },
  {
   "cell_type": "code",
   "execution_count": null,
   "metadata": {},
   "outputs": [],
   "source": [
    "# Imports\n",
    "\n",
    "import torch\n",
    "from torch.nn import DataParallel\n",
    "import torch.nn.functional as F\n",
    "from dotenv import load_dotenv\n",
    "import wandb\n",
    "from accelerate import Accelerator, init_empty_weights, load_checkpoint_and_dispatch\n",
    "from helpers.memory import check_memory\n",
    "\n",
    "load_dotenv('secrets.env')\n",
    "device = 'cuda'\n",
    "check_memory()"
   ]
  },
  {
   "cell_type": "code",
   "execution_count": null,
   "metadata": {},
   "outputs": [],
   "source": [
    "# Test Multi-GPU Access\n",
    "\n",
    "# Verify Pytorch can communicate with each GPU\n",
    "for i in range(torch.cuda.device_count()):\n",
    "    device = torch.device(f\"cuda:{i}\")\n",
    "    try:\n",
    "        x = torch.tensor([1.0, 2.0, 3.0], device = device)\n",
    "        print(f\"GPU {i}: Computation successful.\")\n",
    "    except Exception as e:\n",
    "        print(f\"GPU {i}: Computation failed. Error: {e}\")\n",
    "\n",
    "# Initialize accelerator\n",
    "accelerator = Accelerator(\n",
    "    device_placement = True,\n",
    "    mixed_precision = 'bf16',\n",
    "    gradient_accumulation_steps = 1, # Temp\n",
    "    split_batches = False\n",
    ")"
   ]
  },
  {
   "cell_type": "markdown",
   "metadata": {},
   "source": [
    "## Test Inference with Base HF Model"
   ]
  },
  {
   "cell_type": "code",
   "execution_count": null,
   "metadata": {},
   "outputs": [],
   "source": [
    "from transformers import AutoTokenizer, AutoModelForCausalLM\n",
    "\n",
    "tokenizer = AutoTokenizer.from_pretrained('allenai/OLMoE-1B-7B-0924', add_eos_token = False, add_bos_token = False, padding_side = 'right')\n",
    "\n",
    "model = AutoModelForCausalLM.from_pretrained(\n",
    "    'allenai/OLMoE-1B-7B-0924',\n",
    "    device_map = 'auto', \n",
    "    max_memory = {i: \"20GB\" for i in range(torch.cuda.device_count())},\n",
    "    torch_dtype = torch.bfloat16,\n",
    "    trust_remote_code = True\n",
    ")\n",
    "\n",
    "check_memory()"
   ]
  },
  {
   "cell_type": "code",
   "execution_count": null,
   "metadata": {},
   "outputs": [],
   "source": [
    "# Test with .pipeline()\n",
    "\n",
    "@torch.no_grad()\n",
    "def eval_model_v1(model, tokenizer, prompt):\n",
    "    tokens = tokenizer(prompt, return_tensors = \"pt\").to(device)\n",
    "    res = model.generate(\n",
    "        **tokens,\n",
    "        max_new_tokens = 32,\n",
    "        do_sample = False,\n",
    "        eos_token_id = [tokenizer.eos_token_id]\n",
    "        )\n",
    "    print(res)\n",
    "    return tokenizer.batch_decode(res)[0]\n",
    "\n",
    "print(eval_model_v1(\n",
    "    model,\n",
    "    tokenizer,\n",
    "    'I am a dog and I like to eat. My favorite food is'\n",
    "))"
   ]
  },
  {
   "cell_type": "code",
   "execution_count": null,
   "metadata": {},
   "outputs": [],
   "source": [
    "# Test with token-by-token generation\n",
    " \n",
    "@torch.no_grad()\n",
    "def eval_model_v2(model, tokenizer, prompt):\n",
    "    tokens = tokenizer(prompt, return_tensors = 'pt').to(device)['input_ids']\n",
    "    i = 1\n",
    "    while i <= 1:\n",
    "        output = model(tokens)\n",
    "        logits = output['logits']\n",
    "        output_token = torch.argmax(F.softmax(logits.squeeze(), dim = 1), dim = 1)[-1]\n",
    "        print(output_token)\n",
    "        tokens = torch.cat((tokens, output_token.view(1, 1)), dim = 1)\n",
    "                \n",
    "        if output_token in [tokenizer.eos_token_id, tokenizer.convert_tokens_to_ids(\"<|end|>\")]:\n",
    "            break\n",
    "\n",
    "        i = i + 1\n",
    "    \n",
    "    print(tokens)\n",
    "    return tokenizer.batch_decode(tokens)[0]\n",
    "\n",
    "print(eval_model_v2(\n",
    "    model,\n",
    "    tokenizer,\n",
    "    'I am a dog and I like to eat. My favorite food is'\n",
    "))"
   ]
  },
  {
   "cell_type": "markdown",
   "metadata": {},
   "source": [
    "## Reverse Engineer the Class"
   ]
  },
  {
   "cell_type": "code",
   "execution_count": null,
   "metadata": {},
   "outputs": [],
   "source": [
    "prompt = 'I am a dog and I like to eat. My favorite food is' # Correct next token output is 'steak'\n",
    "inputs = tokenizer(prompt, return_tensors = 'pt').to(device)\n",
    "input_ids = inputs['input_ids']\n",
    "attention_mask = inputs['attention_mask']"
   ]
  },
  {
   "cell_type": "code",
   "execution_count": null,
   "metadata": {},
   "outputs": [],
   "source": [
    "# Split off LM head\n",
    "with torch.no_grad():\n",
    "    # Everything before the LM head\n",
    "    decoder_output = model.model(\n",
    "        input_ids,\n",
    "        attention_mask\n",
    "    )['last_hidden_state']\n",
    "    # The LM head\n",
    "    output_logits = model.lm_head(decoder_output)\n",
    "\n",
    "\n",
    "output_ids = torch.argmax(output_logits[0, :, :], dim = 1)\n",
    "print(tokenizer.decode(output_ids[-1]))"
   ]
  },
  {
   "cell_type": "code",
   "execution_count": null,
   "metadata": {},
   "outputs": [],
   "source": [
    "# Split off LM head\n",
    "with torch.no_grad():\n",
    "    # Everything before the LM head\n",
    "    decoder_output = model.model(\n",
    "        input_ids,\n",
    "        attention_mask\n",
    "    )['last_hidden_state']\n",
    "    # The LM head\n",
    "    output_logits = model.lm_head(decoder_output)\n",
    "\n",
    "\n",
    "output_ids = torch.argmax(output_logits[0, :, :], dim = 1)\n",
    "print(tokenizer.decode(output_ids[-1]))"
   ]
  },
  {
   "cell_type": "code",
   "execution_count": null,
   "metadata": {},
   "outputs": [],
   "source": [
    "tokenizer.eos_token_id"
   ]
  },
  {
   "cell_type": "code",
   "execution_count": null,
   "metadata": {},
   "outputs": [],
   "source": []
  }
 ],
 "metadata": {
  "kernelspec": {
   "display_name": ".venv",
   "language": "python",
   "name": "python3"
  },
  "language_info": {
   "codemirror_mode": {
    "name": "ipython",
    "version": 3
   },
   "file_extension": ".py",
   "mimetype": "text/x-python",
   "name": "python",
   "nbconvert_exporter": "python",
   "pygments_lexer": "ipython3",
   "version": "3.10.12"
  }
 },
 "nbformat": 4,
 "nbformat_minor": 2
}
