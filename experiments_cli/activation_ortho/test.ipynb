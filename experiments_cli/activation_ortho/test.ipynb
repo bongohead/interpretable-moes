{
 "cells": [
  {
   "cell_type": "code",
   "execution_count": 1,
   "metadata": {},
   "outputs": [],
   "source": [
    "import torch\n",
    "from torch.optim import AdamW\n",
    "from torch.optim.lr_scheduler import SequentialLR, LinearLR, CosineAnnealingLR\n",
    "from config import ModelConf, TrainConf, OrthoMappingConf\n",
    "from moe import OlmoeModel\n"
   ]
  },
  {
   "cell_type": "code",
   "execution_count": 18,
   "metadata": {},
   "outputs": [],
   "source": [
    "model_conf = ModelConf(\n",
    "    D = 768, \n",
    "    H = 12,\n",
    "    I = 3072,\n",
    "    n_experts = 16,\n",
    "    \n",
    "    n_shared_experts = 0,\n",
    "    top_k = 2,\n",
    "    norm_topk_prob = False,\n",
    "    n_layers = 12,\n",
    "    max_position_embeddings = 1024,\n",
    "    main_device = 'cuda:0'\n",
    ")\n",
    "\n",
    "or_conf = OrthoMappingConf()\n",
    "seed = 3456\n",
    "\n",
    "torch.set_default_dtype(torch.bfloat16)\n",
    "torch.set_float32_matmul_precision('medium') # See https://pytorch.org/docs/stable/generated/torch.set_float32_matmul_precision.html \n",
    "torch.manual_seed(seed)\n",
    "model = OlmoeModel(\n",
    "    model_conf,\n",
    "    or_conf,\n",
    "    primary_device = model_conf.main_device, \n",
    "    expert_device_map = [model_conf.main_device] * model_conf.n_experts \n",
    ")"
   ]
  },
  {
   "cell_type": "code",
   "execution_count": null,
   "metadata": {},
   "outputs": [
    {
     "data": {
      "text/plain": [
       "<All keys matched successfully>"
      ]
     },
     "execution_count": 19,
     "metadata": {},
     "output_type": "execute_result"
    }
   ],
   "source": [
    "\n",
    "\n",
    "checkpoint_path = \"/workspace/interpretable-moes/experiments_cli/current/saves/baseline_small_v2/checkpoint_00032500.pt\"\n",
    "checkpoint = torch.load(checkpoint_path)\n",
    "state_dict = checkpoint['model_state_dict']\n",
    "new_state_dict = {k.replace(\"_orig_mod.\", \"\"): v for k, v in state_dict.items()}\n",
    "model.load_state_dict(new_state_dict)\n",
    "\n"
   ]
  },
  {
   "cell_type": "code",
   "execution_count": 20,
   "metadata": {},
   "outputs": [],
   "source": [
    "\"\"\"\n",
    "Qualitative test\n",
    "\"\"\"\n",
    "from transformers import AutoTokenizer\n",
    "import torch\n",
    "\n",
    "prompt = 'My dog likes to eat '\n",
    "\n",
    "tokenizer = AutoTokenizer.from_pretrained('allenai/OLMoE-1B-7B-0924', add_eos_token = False, add_bos_token = False)\n",
    "inputs = tokenizer(prompt,  truncation = True, max_length = 128, padding = 'max_length',return_tensors = 'pt').to(model_conf.main_device)\n",
    "input_ids = inputs['input_ids']\n",
    "attention_mask = inputs['attention_mask']\n"
   ]
  },
  {
   "cell_type": "code",
   "execution_count": 21,
   "metadata": {},
   "outputs": [
    {
     "name": "stdout",
     "output_type": "stream",
     "text": [
      "My dog likes to eat <|padding|><|padding|><|padding|><|padding|><|padding|><|padding|><|padding|><|padding|><|padding|><|padding|><|padding|><|padding|><|padding|><|padding|><|padding|><|padding|><|padding|><|padding|><|padding|><|padding|><|padding|><|padding|><|padding|><|padding|><|padding|><|padding|><|padding|><|padding|><|padding|><|padding|><|padding|><|padding|><|padding|><|padding|><|padding|><|padding|><|padding|><|padding|><|padding|><|padding|><|padding|><|padding|><|padding|><|padding|><|padding|><|padding|><|padding|><|padding|><|padding|><|padding|><|padding|><|padding|><|padding|><|padding|><|padding|><|padding|><|padding|><|padding|><|padding|><|padding|><|padding|><|padding|><|padding|><|padding|><|padding|><|padding|><|padding|><|padding|><|padding|><|padding|><|padding|><|padding|><|padding|><|padding|><|padding|><|padding|><|padding|><|padding|><|padding|><|padding|><|padding|><|padding|><|padding|><|padding|><|padding|><|padding|><|padding|><|padding|><|padding|><|padding|><|padding|><|padding|><|padding|><|padding|><|padding|><|padding|><|padding|><|padding|><|padding|><|padding|><|padding|><|padding|><|padding|><|padding|><|padding|><|padding|><|padding|><|padding|><|padding|><|padding|><|padding|><|padding|><|padding|><|padding|><|padding|><|padding|><|padding|><|padding|><|padding|><|padding|><|padding|><|padding|>|||IP_ADDRESS|||, and the\n",
      "\n"
     ]
    }
   ],
   "source": [
    "\n",
    "# Iteratively generate tokens\n",
    "with torch.no_grad():\n",
    "    for _ in range(255):\n",
    "        output = model(input_ids, attention_mask, moe_method = 'forward_slow', use_checkpointing = False)['logits']\n",
    "\n",
    "        next_token_id = torch.argmax(output[0, -1, :], dim = -1).unsqueeze(0)\n",
    "\n",
    "        input_ids = torch.cat([input_ids, next_token_id.unsqueeze(0)], dim = 1)\n",
    "        attention_mask = torch.cat([attention_mask, torch.ones((1, 1), dtype = torch.long, device = input_ids.device)], dim = 1)\n",
    "\n",
    "        if next_token_id.item() in [tokenizer.eos_token_id, tokenizer.encode('\\n')[0]]:\n",
    "            break\n",
    "\n",
    "# Decode final sequence\n",
    "generated_text = tokenizer.decode(input_ids[0], skip_special_tokens = False)\n",
    "print(generated_text)\n",
    "\n"
   ]
  }
 ],
 "metadata": {
  "kernelspec": {
   "display_name": "Python 3",
   "language": "python",
   "name": "python3"
  },
  "language_info": {
   "codemirror_mode": {
    "name": "ipython",
    "version": 3
   },
   "file_extension": ".py",
   "mimetype": "text/x-python",
   "name": "python",
   "nbconvert_exporter": "python",
   "pygments_lexer": "ipython3",
   "version": "3.12.9"
  }
 },
 "nbformat": 4,
 "nbformat_minor": 2
}
