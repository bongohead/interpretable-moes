{
 "cells": [
  {
   "cell_type": "code",
   "execution_count": 1,
   "metadata": {},
   "outputs": [
    {
     "data": {
      "application/vnd.jupyter.widget-view+json": {
       "model_id": "d7bca09f4a574a1fb5877422139dd9c6",
       "version_major": 2,
       "version_minor": 0
      },
      "text/plain": [
       "README.md:   0%|          | 0.00/25.5k [00:00<?, ?B/s]"
      ]
     },
     "metadata": {},
     "output_type": "display_data"
    },
    {
     "data": {
      "application/vnd.jupyter.widget-view+json": {
       "model_id": "21706615eda34b468788bfddb7f95e9c",
       "version_major": 2,
       "version_minor": 0
      },
      "text/plain": [
       "Resolving data files:   0%|          | 0/2110 [00:00<?, ?it/s]"
      ]
     },
     "metadata": {},
     "output_type": "display_data"
    },
    {
     "data": {
      "application/vnd.jupyter.widget-view+json": {
       "model_id": "e7df8728460446b786b7ad132f8c07b6",
       "version_major": 2,
       "version_minor": 0
      },
      "text/plain": [
       "Resolving data files:   0%|          | 0/140 [00:00<?, ?it/s]"
      ]
     },
     "metadata": {},
     "output_type": "display_data"
    },
    {
     "name": "stdout",
     "output_type": "stream",
     "text": [
      "Saved 10000 validation samples to ./val_v2_shard.json\n"
     ]
    }
   ],
   "source": [
    "# this is generate another validation set of larger size. from 1000 to 10000 for better evaluation. \n",
    "# Note this is not suitalbe, as part of data is used in training.\n",
    "from datasets import load_dataset\n",
    "import json\n",
    "val_size = 10000\n",
    "val_filename = \"./val_v2_shard.json\"\n",
    "\n",
    "ds = load_dataset(\"HuggingFaceFW/fineweb-edu\", name=\"sample-100BT\", split=\"train\", streaming=True)\n",
    "ds = ds.filter(lambda x: x.get(\"language\") == \"en\") #and x.get(\"score\") >= 4\n",
    "ds_iter = iter(ds)\n",
    "val_data = []\n",
    "for _ in range(val_size):\n",
    "    sample = next(ds_iter, None)\n",
    "    if sample is None:\n",
    "        break\n",
    "    val_data.append(sample[\"text\"])\n",
    "    \n",
    "with open(val_filename, \"w\", encoding=\"utf-8\") as f:\n",
    "    json.dump(val_data, f, ensure_ascii=False)\n",
    "print(f\"Saved {len(val_data)} validation samples to {val_filename}\")"
   ]
  }
 ],
 "metadata": {
  "kernelspec": {
   "display_name": "Python 3",
   "language": "python",
   "name": "python3"
  },
  "language_info": {
   "codemirror_mode": {
    "name": "ipython",
    "version": 3
   },
   "file_extension": ".py",
   "mimetype": "text/x-python",
   "name": "python",
   "nbconvert_exporter": "python",
   "pygments_lexer": "ipython3",
   "version": "3.12.9"
  }
 },
 "nbformat": 4,
 "nbformat_minor": 2
}
